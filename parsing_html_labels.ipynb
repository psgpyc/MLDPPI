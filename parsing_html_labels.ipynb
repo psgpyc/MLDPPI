{
 "cells": [
  {
   "cell_type": "code",
   "execution_count": 2,
   "id": "4c618abb-5987-4c3e-89dc-ff4f10a8e11a",
   "metadata": {},
   "outputs": [],
   "source": [
    "from bs4 import BeautifulSoup\n",
    "import re\n",
    "\n",
    "label_dict = {}\n",
    "\n",
    "with open(\"USCODE23_LLCP_091024.HTML\") as fp:\n",
    "    \n",
    "    soup = BeautifulSoup(fp, 'html.parser')\n",
    "    \n",
    "    for each in  soup.find_all(class_=\"l m linecontent\"):\n",
    "\n",
    "        # finding key for the dict\n",
    "        label_kv = each.text.split('Name:')[0]\n",
    "        label_kvp  = label_kv[:label_kv.find('Section')]\n",
    "        \n",
    "        # finding value for the dict\n",
    "        start_index_sas_var = each.text.find('SAS')\n",
    "        end_index_sas_var =  each.text.find(r'Prologue')\n",
    "      \n",
    "        next_label  = each.text[start_index_sas_var:end_index_sas_var]\n",
    "        \n",
    "        label_dict[label_kvp.split(':')[-1]] = next_label[:next_label.find('Question')].split(':')[-1]\n",
    "        "
   ]
  },
  {
   "cell_type": "code",
   "execution_count": 3,
   "id": "d51f3d84-fe9e-45c4-8cc8-e0c4ee3186af",
   "metadata": {},
   "outputs": [],
   "source": [
    "cleaned_dict = {k.replace('\\xa0', ' ').strip(): v.replace('\\xa0', ' ').strip() \n",
    "                for k, v in label_dict.items()}"
   ]
  },
  {
   "cell_type": "code",
   "execution_count": null,
   "id": "493d1c84-7b52-41cb-9a0d-6cc3e3d1a352",
   "metadata": {},
   "outputs": [],
   "source": []
  },
  {
   "cell_type": "code",
   "execution_count": 8,
   "id": "21e39631-8b94-4d12-94aa-288613d24281",
   "metadata": {},
   "outputs": [],
   "source": [
    "use_cols = [\"DIABETE4\", \"DIABTYPE\", \"_BMI5CAT\", \"_AGE_G\", \"_INCOMG1\", \"_SMOKER3\", \"_RFHYPE6\", \"_RFCHOL3\", \"_MICHD\", \"_ASTHMS1\", \"CHCKDNY2\", \"MARITAL\", \"_EDUCAG\", \"_RFHLTH\", \"_PACAT3\", \"_DRDXAR2\", \"ADDEPEV3\", \"_SEX\", \"_RACE\"]"
   ]
  },
  {
   "cell_type": "code",
   "execution_count": 9,
   "id": "a2840580-02e1-438e-ad42-3c1c343d960d",
   "metadata": {},
   "outputs": [],
   "source": [
    "using_dict= {}\n",
    "for k,v in cleaned_dict.items():\n",
    "    if v in use_cols:\n",
    "        using_dict[k] = v"
   ]
  },
  {
   "cell_type": "code",
   "execution_count": 10,
   "id": "dadd6218-9dfc-400c-9468-20999687e6f1",
   "metadata": {},
   "outputs": [
    {
     "data": {
      "text/plain": [
       "{'(Ever told) you had a depressive disorder': 'ADDEPEV3',\n",
       " 'Ever told you have kidney disease?': 'CHCKDNY2',\n",
       " '(Ever told) you had diabetes': 'DIABETE4',\n",
       " 'Marital Status': 'MARITAL',\n",
       " 'What type of diabetes do you have?': 'DIABTYPE',\n",
       " 'Adults with good or better health': '_RFHLTH',\n",
       " 'Physical Activity Categories': '_PACAT3',\n",
       " 'High Blood Pressure Calculated Variable': '_RFHYPE6',\n",
       " 'High Cholesterol Calculated Variable': '_RFCHOL3',\n",
       " 'Ever had CHD or MI': '_MICHD',\n",
       " 'Computed Asthma Status': '_ASTHMS1',\n",
       " 'Respondents diagnosed with arthritis': '_DRDXAR2',\n",
       " 'Computed Race-Ethnicity grouping': '_RACE',\n",
       " 'Calculated sex variable': '_SEX',\n",
       " 'Imputed age in six groups': '_AGE_G',\n",
       " 'Computed body mass index categories': '_BMI5CAT',\n",
       " 'Computed level of education completed categories': '_EDUCAG',\n",
       " 'Computed income categories': '_INCOMG1',\n",
       " 'Computed Smoking Status': '_SMOKER3'}"
      ]
     },
     "execution_count": 10,
     "metadata": {},
     "output_type": "execute_result"
    }
   ],
   "source": [
    "using_dict"
   ]
  },
  {
   "cell_type": "code",
   "execution_count": null,
   "id": "af6b1105-2535-4ba3-ae28-590eb197aae8",
   "metadata": {},
   "outputs": [],
   "source": []
  }
 ],
 "metadata": {
  "kernelspec": {
   "display_name": "Python 3 (ipykernel)",
   "language": "python",
   "name": "python3"
  },
  "language_info": {
   "codemirror_mode": {
    "name": "ipython",
    "version": 3
   },
   "file_extension": ".py",
   "mimetype": "text/x-python",
   "name": "python",
   "nbconvert_exporter": "python",
   "pygments_lexer": "ipython3",
   "version": "3.12.7"
  }
 },
 "nbformat": 4,
 "nbformat_minor": 5
}
